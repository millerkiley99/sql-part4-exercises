{
    "metadata": {
        "kernelspec": {
            "name": "SQL",
            "display_name": "SQL",
            "language": "sql"
        },
        "language_info": {
            "name": "sql",
            "version": ""
        }
    },
    "nbformat_minor": 2,
    "nbformat": 4,
    "cells": [
        {
            "cell_type": "markdown",
            "source": [
                "# Exercises: Complex queries\n",
                "\n",
                "For the exercises, you are tasked with writing five queries that will help you delve deeper into BooksDB. You can choose whether you want to use a correlated subquery, a nested subquery, the UNION operator, the INTERSECT operator, or the EXCEPT operator for each one. You may not use joins or add multiple statements to the WHERE clause.\n",
                "\n",
                "1. Write a query that will return the number of users who rated a book above it's average rating."
            ],
            "metadata": {
                "azdata_cell_guid": "10006a10-882f-4f55-8d42-f36044fdb6c7"
            },
            "attachments": {}
        },
        {
            "cell_type": "code",
            "source": [
                "SELECT COUNT(r.user_id) AS 'Number of Users Ratings Over Average Rating'\n",
                "FROM BooksDB.dbo.ratings AS r\n",
                "WHERE r.rating > (\n",
                "    SELECT b.average_rating\n",
                "    FROM BooksDB.dbo.books AS b\n",
                "    WHERE b.book_id = r.book_id\n",
                "    GROUP BY b.book_id, b.average_rating\n",
                "    HAVING b.book_id = '3'\n",
                ")"
            ],
            "metadata": {
                "azdata_cell_guid": "203eb95e-6585-435f-8a8e-bfa0dfe6f7c0",
                "tags": [],
                "language": "sql"
            },
            "outputs": [
                {
                    "output_type": "display_data",
                    "data": {
                        "text/html": "(1 row affected)"
                    },
                    "metadata": {}
                },
                {
                    "output_type": "display_data",
                    "data": {
                        "text/html": "Total execution time: 00:00:00.572"
                    },
                    "metadata": {}
                },
                {
                    "output_type": "execute_result",
                    "execution_count": 102,
                    "data": {
                        "application/vnd.dataresource+json": {
                            "schema": {
                                "fields": [
                                    {
                                        "name": "Number of Users Ratings Over Average Rating"
                                    }
                                ]
                            },
                            "data": [
                                {
                                    "0": "23"
                                }
                            ]
                        },
                        "text/html": "<table><tr><th>Number of Users Ratings Over Average Rating</th></tr><tr><td>23</td></tr></table>"
                    },
                    "metadata": {}
                }
            ],
            "execution_count": 102
        },
        {
            "cell_type": "markdown",
            "source": [
                "2. Write a query that returns the book ids of all books that have over 1000 ratings of 1 star or over 1000 ratings of 5 stars."
            ],
            "metadata": {
                "azdata_cell_guid": "7f849931-6c9c-4cd9-b3ba-66871052673d"
            },
            "attachments": {}
        },
        {
            "cell_type": "code",
            "source": [
                "SELECT TOP 20 ratings_1 AS 'ratings count', book_id, 'ratings_1' AS 'rating'\n",
                "    FROM BooksDB.dbo.books\n",
                "    WHERE ratings_1 > 1000\n",
                "UNION\n",
                "SELECT TOP 20 ratings_5, book_id, 'ratings_5'\n",
                "    FROM BooksDB.dbo.books\n",
                "    WHERE ratings_5 > 1000\n",
                "ORDER BY book_id ASC"
            ],
            "metadata": {
                "azdata_cell_guid": "2971d543-8224-4ff1-954c-b489507f72fa",
                "language": "sql"
            },
            "outputs": [
                {
                    "output_type": "display_data",
                    "data": {
                        "text/html": "(40 rows affected)"
                    },
                    "metadata": {}
                },
                {
                    "output_type": "display_data",
                    "data": {
                        "text/html": "Total execution time: 00:00:00.058"
                    },
                    "metadata": {}
                },
                {
                    "output_type": "execute_result",
                    "metadata": {},
                    "execution_count": 1,
                    "data": {
                        "application/vnd.dataresource+json": {
                            "schema": {
                                "fields": [
                                    {
                                        "name": "ratings count"
                                    },
                                    {
                                        "name": "book_id"
                                    },
                                    {
                                        "name": "rating"
                                    }
                                ]
                            },
                            "data": [
                                {
                                    "0": "75504",
                                    "1": "3",
                                    "2": "ratings_1"
                                },
                                {
                                    "0": "3011543",
                                    "1": "3",
                                    "2": "ratings_5"
                                },
                                {
                                    "0": "6716",
                                    "1": "5",
                                    "2": "ratings_1"
                                },
                                {
                                    "0": "1266670",
                                    "1": "5",
                                    "2": "ratings_5"
                                },
                                {
                                    "0": "38031",
                                    "1": "34",
                                    "2": "ratings_1"
                                },
                                {
                                    "0": "1042394",
                                    "1": "34",
                                    "2": "ratings_5"
                                },
                                {
                                    "0": "77841",
                                    "1": "960",
                                    "2": "ratings_1"
                                },
                                {
                                    "0": "680175",
                                    "1": "960",
                                    "2": "ratings_5"
                                },
                                {
                                    "0": "54700",
                                    "1": "1885",
                                    "2": "ratings_1"
                                },
                                {
                                    "0": "1155673",
                                    "1": "1885",
                                    "2": "ratings_5"
                                },
                                {
                                    "0": "60427",
                                    "1": "2657",
                                    "2": "ratings_1"
                                },
                                {
                                    "0": "1714267",
                                    "1": "2657",
                                    "2": "ratings_5"
                                },
                                {
                                    "0": "86236",
                                    "1": "4671",
                                    "2": "ratings_1"
                                },
                                {
                                    "0": "947718",
                                    "1": "4671",
                                    "2": "ratings_5"
                                },
                                {
                                    "0": "109383",
                                    "1": "5107",
                                    "2": "ratings_1"
                                },
                                {
                                    "0": "709176",
                                    "1": "5107",
                                    "2": "ratings_5"
                                },
                                {
                                    "0": "41845",
                                    "1": "5470",
                                    "2": "ratings_1"
                                },
                                {
                                    "0": "908229",
                                    "1": "5470",
                                    "2": "ratings_5"
                                },
                                {
                                    "0": "46023",
                                    "1": "5907",
                                    "2": "ratings_1"
                                },
                                {
                                    "0": "1119718",
                                    "1": "5907",
                                    "2": "ratings_5"
                                },
                                {
                                    "0": "66854",
                                    "1": "7613",
                                    "2": "ratings_1"
                                },
                                {
                                    "0": "648912",
                                    "1": "7613",
                                    "2": "ratings_5"
                                },
                                {
                                    "0": "456191",
                                    "1": "41865",
                                    "2": "ratings_1"
                                },
                                {
                                    "0": "1355439",
                                    "1": "41865",
                                    "2": "ratings_5"
                                },
                                {
                                    "0": "45225",
                                    "1": "48855",
                                    "2": "ratings_1"
                                },
                                {
                                    "0": "875372",
                                    "1": "48855",
                                    "2": "ratings_5"
                                },
                                {
                                    "0": "34288",
                                    "1": "77203",
                                    "2": "ratings_1"
                                },
                                {
                                    "0": "929591",
                                    "1": "77203",
                                    "2": "ratings_5"
                                },
                                {
                                    "0": "54835",
                                    "1": "2429135",
                                    "2": "ratings_1"
                                },
                                {
                                    "0": "836050",
                                    "1": "2429135",
                                    "2": "ratings_5"
                                },
                                {
                                    "0": "66715",
                                    "1": "2767052",
                                    "2": "ratings_1"
                                },
                                {
                                    "0": "2706317",
                                    "1": "2767052",
                                    "2": "ratings_5"
                                },
                                {
                                    "0": "10492",
                                    "1": "6148028",
                                    "2": "ratings_1"
                                },
                                {
                                    "0": "980309",
                                    "1": "6148028",
                                    "2": "ratings_5"
                                },
                                {
                                    "0": "30144",
                                    "1": "7260188",
                                    "2": "ratings_1"
                                },
                                {
                                    "0": "738775",
                                    "1": "7260188",
                                    "2": "ratings_5"
                                },
                                {
                                    "0": "47994",
                                    "1": "11870085",
                                    "2": "ratings_1"
                                },
                                {
                                    "0": "1311871",
                                    "1": "11870085",
                                    "2": "ratings_5"
                                },
                                {
                                    "0": "36315",
                                    "1": "13335037",
                                    "2": "ratings_1"
                                },
                                {
                                    "0": "1114304",
                                    "1": "13335037",
                                    "2": "ratings_5"
                                }
                            ]
                        },
                        "text/html": [
                            "<table>",
                            "<tr><th>ratings count</th><th>book_id</th><th>rating</th></tr>",
                            "<tr><td>75504</td><td>3</td><td>ratings_1</td></tr>",
                            "<tr><td>3011543</td><td>3</td><td>ratings_5</td></tr>",
                            "<tr><td>6716</td><td>5</td><td>ratings_1</td></tr>",
                            "<tr><td>1266670</td><td>5</td><td>ratings_5</td></tr>",
                            "<tr><td>38031</td><td>34</td><td>ratings_1</td></tr>",
                            "<tr><td>1042394</td><td>34</td><td>ratings_5</td></tr>",
                            "<tr><td>77841</td><td>960</td><td>ratings_1</td></tr>",
                            "<tr><td>680175</td><td>960</td><td>ratings_5</td></tr>",
                            "<tr><td>54700</td><td>1885</td><td>ratings_1</td></tr>",
                            "<tr><td>1155673</td><td>1885</td><td>ratings_5</td></tr>",
                            "<tr><td>60427</td><td>2657</td><td>ratings_1</td></tr>",
                            "<tr><td>1714267</td><td>2657</td><td>ratings_5</td></tr>",
                            "<tr><td>86236</td><td>4671</td><td>ratings_1</td></tr>",
                            "<tr><td>947718</td><td>4671</td><td>ratings_5</td></tr>",
                            "<tr><td>109383</td><td>5107</td><td>ratings_1</td></tr>",
                            "<tr><td>709176</td><td>5107</td><td>ratings_5</td></tr>",
                            "<tr><td>41845</td><td>5470</td><td>ratings_1</td></tr>",
                            "<tr><td>908229</td><td>5470</td><td>ratings_5</td></tr>",
                            "<tr><td>46023</td><td>5907</td><td>ratings_1</td></tr>",
                            "<tr><td>1119718</td><td>5907</td><td>ratings_5</td></tr>",
                            "<tr><td>66854</td><td>7613</td><td>ratings_1</td></tr>",
                            "<tr><td>648912</td><td>7613</td><td>ratings_5</td></tr>",
                            "<tr><td>456191</td><td>41865</td><td>ratings_1</td></tr>",
                            "<tr><td>1355439</td><td>41865</td><td>ratings_5</td></tr>",
                            "<tr><td>45225</td><td>48855</td><td>ratings_1</td></tr>",
                            "<tr><td>875372</td><td>48855</td><td>ratings_5</td></tr>",
                            "<tr><td>34288</td><td>77203</td><td>ratings_1</td></tr>",
                            "<tr><td>929591</td><td>77203</td><td>ratings_5</td></tr>",
                            "<tr><td>54835</td><td>2429135</td><td>ratings_1</td></tr>",
                            "<tr><td>836050</td><td>2429135</td><td>ratings_5</td></tr>",
                            "<tr><td>66715</td><td>2767052</td><td>ratings_1</td></tr>",
                            "<tr><td>2706317</td><td>2767052</td><td>ratings_5</td></tr>",
                            "<tr><td>10492</td><td>6148028</td><td>ratings_1</td></tr>",
                            "<tr><td>980309</td><td>6148028</td><td>ratings_5</td></tr>",
                            "<tr><td>30144</td><td>7260188</td><td>ratings_1</td></tr>",
                            "<tr><td>738775</td><td>7260188</td><td>ratings_5</td></tr>",
                            "<tr><td>47994</td><td>11870085</td><td>ratings_1</td></tr>",
                            "<tr><td>1311871</td><td>11870085</td><td>ratings_5</td></tr>",
                            "<tr><td>36315</td><td>13335037</td><td>ratings_1</td></tr>",
                            "<tr><td>1114304</td><td>13335037</td><td>ratings_5</td></tr>",
                            "</table>"
                        ]
                    }
                }
            ],
            "execution_count": 1
        },
        {
            "cell_type": "markdown",
            "source": [
                "3. Write a query that returns the book ids of all books that have over 1000 ratings of 1 star and over 1000 ratings of 5 stars."
            ],
            "metadata": {
                "azdata_cell_guid": "9c53b866-c8e8-465e-b089-7702b191a15e"
            },
            "attachments": {}
        },
        {
            "cell_type": "code",
            "source": [
                "SELECT TOP 20 book_id\n",
                "    FROM BooksDB.dbo.books\n",
                "    WHERE ratings_1 > 1000\n",
                "INTERSECT\n",
                "SELECT TOP 20 book_id\n",
                "    FROM BooksDB.dbo.books\n",
                "    WHERE ratings_5 > 1000\n",
                "ORDER BY book_id ASC"
            ],
            "metadata": {
                "azdata_cell_guid": "43e39973-5a29-45ff-b2a9-9c658a19c296",
                "language": "sql"
            },
            "outputs": [
                {
                    "output_type": "display_data",
                    "data": {
                        "text/html": "(20 rows affected)"
                    },
                    "metadata": {}
                },
                {
                    "output_type": "display_data",
                    "data": {
                        "text/html": "Total execution time: 00:00:00.059"
                    },
                    "metadata": {}
                },
                {
                    "output_type": "execute_result",
                    "metadata": {},
                    "execution_count": 2,
                    "data": {
                        "application/vnd.dataresource+json": {
                            "schema": {
                                "fields": [
                                    {
                                        "name": "book_id"
                                    }
                                ]
                            },
                            "data": [
                                {
                                    "0": "3"
                                },
                                {
                                    "0": "5"
                                },
                                {
                                    "0": "34"
                                },
                                {
                                    "0": "960"
                                },
                                {
                                    "0": "1885"
                                },
                                {
                                    "0": "2657"
                                },
                                {
                                    "0": "4671"
                                },
                                {
                                    "0": "5107"
                                },
                                {
                                    "0": "5470"
                                },
                                {
                                    "0": "5907"
                                },
                                {
                                    "0": "7613"
                                },
                                {
                                    "0": "41865"
                                },
                                {
                                    "0": "48855"
                                },
                                {
                                    "0": "77203"
                                },
                                {
                                    "0": "2429135"
                                },
                                {
                                    "0": "2767052"
                                },
                                {
                                    "0": "6148028"
                                },
                                {
                                    "0": "7260188"
                                },
                                {
                                    "0": "11870085"
                                },
                                {
                                    "0": "13335037"
                                }
                            ]
                        },
                        "text/html": [
                            "<table>",
                            "<tr><th>book_id</th></tr>",
                            "<tr><td>3</td></tr>",
                            "<tr><td>5</td></tr>",
                            "<tr><td>34</td></tr>",
                            "<tr><td>960</td></tr>",
                            "<tr><td>1885</td></tr>",
                            "<tr><td>2657</td></tr>",
                            "<tr><td>4671</td></tr>",
                            "<tr><td>5107</td></tr>",
                            "<tr><td>5470</td></tr>",
                            "<tr><td>5907</td></tr>",
                            "<tr><td>7613</td></tr>",
                            "<tr><td>41865</td></tr>",
                            "<tr><td>48855</td></tr>",
                            "<tr><td>77203</td></tr>",
                            "<tr><td>2429135</td></tr>",
                            "<tr><td>2767052</td></tr>",
                            "<tr><td>6148028</td></tr>",
                            "<tr><td>7260188</td></tr>",
                            "<tr><td>11870085</td></tr>",
                            "<tr><td>13335037</td></tr>",
                            "</table>"
                        ]
                    }
                }
            ],
            "execution_count": 2
        },
        {
            "cell_type": "markdown",
            "source": [
                "4. Write a query that returns the book ids of books that have a language code of \"en-US\" and not a langugae code of \"en-GB\"."
            ],
            "metadata": {
                "azdata_cell_guid": "2bd4844b-83af-490f-97cd-fdc1fa2944ec"
            },
            "attachments": {}
        },
        {
            "cell_type": "code",
            "source": [
                "SELECT TOP 20 book_id\n",
                "    FROM BooksDB.dbo.books\n",
                "    WHERE language_code = 'en-US'\n",
                "EXCEPT\n",
                "SELECT TOP 20 book_id\n",
                "    FROM BooksDB.dbo.books\n",
                "    WHERE language_code = 'en-GB'\n",
                "ORDER BY book_id ASC"
            ],
            "metadata": {
                "azdata_cell_guid": "ba5a1b61-19c0-4d70-ae8d-2daae6ae1e21",
                "language": "sql"
            },
            "outputs": [
                {
                    "output_type": "display_data",
                    "data": {
                        "text/html": "(20 rows affected)"
                    },
                    "metadata": {}
                },
                {
                    "output_type": "display_data",
                    "data": {
                        "text/html": "Total execution time: 00:00:00.056"
                    },
                    "metadata": {}
                },
                {
                    "output_type": "execute_result",
                    "metadata": {},
                    "execution_count": 3,
                    "data": {
                        "application/vnd.dataresource+json": {
                            "schema": {
                                "fields": [
                                    {
                                        "name": "book_id"
                                    }
                                ]
                            },
                            "data": [
                                {
                                    "0": "11"
                                },
                                {
                                    "0": "1202"
                                },
                                {
                                    "0": "1934"
                                },
                                {
                                    "0": "2187"
                                },
                                {
                                    "0": "3473"
                                },
                                {
                                    "0": "5907"
                                },
                                {
                                    "0": "18131"
                                },
                                {
                                    "0": "21787"
                                },
                                {
                                    "0": "37435"
                                },
                                {
                                    "0": "41865"
                                },
                                {
                                    "0": "113436"
                                },
                                {
                                    "0": "137791"
                                },
                                {
                                    "0": "168668"
                                },
                                {
                                    "0": "231804"
                                },
                                {
                                    "0": "428263"
                                },
                                {
                                    "0": "1162543"
                                },
                                {
                                    "0": "1656001"
                                },
                                {
                                    "0": "3777732"
                                },
                                {
                                    "0": "6442769"
                                },
                                {
                                    "0": "9460487"
                                }
                            ]
                        },
                        "text/html": [
                            "<table>",
                            "<tr><th>book_id</th></tr>",
                            "<tr><td>11</td></tr>",
                            "<tr><td>1202</td></tr>",
                            "<tr><td>1934</td></tr>",
                            "<tr><td>2187</td></tr>",
                            "<tr><td>3473</td></tr>",
                            "<tr><td>5907</td></tr>",
                            "<tr><td>18131</td></tr>",
                            "<tr><td>21787</td></tr>",
                            "<tr><td>37435</td></tr>",
                            "<tr><td>41865</td></tr>",
                            "<tr><td>113436</td></tr>",
                            "<tr><td>137791</td></tr>",
                            "<tr><td>168668</td></tr>",
                            "<tr><td>231804</td></tr>",
                            "<tr><td>428263</td></tr>",
                            "<tr><td>1162543</td></tr>",
                            "<tr><td>1656001</td></tr>",
                            "<tr><td>3777732</td></tr>",
                            "<tr><td>6442769</td></tr>",
                            "<tr><td>9460487</td></tr>",
                            "</table>"
                        ]
                    }
                }
            ],
            "execution_count": 3
        },
        {
            "cell_type": "markdown",
            "source": [
                "5. Write a query that returns the names of the tags and the tag ids for tags that were used over 100,000 times for a book. "
            ],
            "metadata": {
                "azdata_cell_guid": "6ddd588f-a84c-4c77-93ac-e8c8bd21d0f5"
            },
            "attachments": {}
        },
        {
            "cell_type": "code",
            "source": [
                "SELECT tag_name, tag_id\n",
                "FROM BooksDB.dbo.tags\n",
                "WHERE tag_id = (SELECT tag_id\n",
                "    FROM BooksDB.dbo.book_tags\n",
                "    WHERE count > 100000\n",
                "    GROUP BY tag_id);"
            ],
            "metadata": {
                "azdata_cell_guid": "90f61ad7-65cb-4ea8-85a3-d8c815cfe347",
                "tags": [],
                "language": "sql"
            },
            "outputs": [
                {
                    "output_type": "display_data",
                    "data": {
                        "text/html": "(1 row affected)"
                    },
                    "metadata": {}
                },
                {
                    "output_type": "display_data",
                    "data": {
                        "text/html": "Total execution time: 00:00:00.134"
                    },
                    "metadata": {}
                },
                {
                    "output_type": "execute_result",
                    "execution_count": 196,
                    "data": {
                        "application/vnd.dataresource+json": {
                            "schema": {
                                "fields": [
                                    {
                                        "name": "tag_name"
                                    },
                                    {
                                        "name": "tag_id"
                                    }
                                ]
                            },
                            "data": [
                                {
                                    "0": "to-read",
                                    "1": "30574"
                                }
                            ]
                        },
                        "text/html": "<table><tr><th>tag_name</th><th>tag_id</th></tr><tr><td>to-read</td><td>30574</td></tr></table>"
                    },
                    "metadata": {}
                }
            ],
            "execution_count": 196
        }
    ]
}